{
  "cells": [
    {
      "cell_type": "markdown",
      "metadata": {
        "id": "NPtNI3o7xgpr"
      },
      "source": [
        "**Important: Before you start, please add your name and id to the notebook file name and add it here as well**\n",
        "\n",
        "Example: \"notebook2_John_Doe_123123123.ipynb\""
      ]
    },
    {
      "cell_type": "markdown",
      "metadata": {
        "id": "5LGgQr46xipR"
      },
      "source": [
        "**Names:**\n",
        "\n",
        "1. Ofir Gormes 208575068\n",
        "\n",
        "2. Eden Bresler 209424589"
      ]
    },
    {
      "cell_type": "markdown",
      "metadata": {
        "id": "yvllrcbjdTnk"
      },
      "source": [
        "# Part 1"
      ]
    },
    {
      "cell_type": "markdown",
      "metadata": {
        "id": "W_Ot6UDedTno"
      },
      "source": [
        "# Scoring matrix BLOSUM62"
      ]
    },
    {
      "cell_type": "markdown",
      "metadata": {
        "id": "ivbGNp30dTnp"
      },
      "source": [
        "Install `biopython` using the following steps:\n",
        "1. Run \"Anaconda Prompt\" as administrator (from the Start Menu)\n",
        "2. Type `conda install -c anaconda biopython`\n",
        "\n",
        "if you're using Google Colab, install `biopython` using the following command:\n",
        "`!pip install biopython` (uncomment it in the command below)"
      ]
    },
    {
      "cell_type": "markdown",
      "metadata": {
        "id": "x7aYp5pJdTnq"
      },
      "source": [
        "Obtain BLOSUM62 scoring matrix for amino acids as follows:"
      ]
    },
    {
      "cell_type": "code",
      "execution_count": 176,
      "metadata": {
        "colab": {
          "base_uri": "https://localhost:8080/"
        },
        "id": "AnJEbN2kdTnq",
        "outputId": "a4647c1e-a9c8-48fa-f962-4fe5dd799758"
      },
      "outputs": [
        {
          "output_type": "stream",
          "name": "stdout",
          "text": [
            "Requirement already satisfied: biopython in /usr/local/lib/python3.10/dist-packages (1.83)\n",
            "Requirement already satisfied: numpy in /usr/local/lib/python3.10/dist-packages (from biopython) (1.25.2)\n"
          ]
        }
      ],
      "source": [
        "# uncomment the following line if you're using Google Colab:\n",
        "!pip install biopython\n",
        "\n",
        "from Bio.Align import substitution_matrices\n",
        "matrix = substitution_matrices.load(\"BLOSUM62\")"
      ]
    },
    {
      "cell_type": "markdown",
      "metadata": {
        "id": "RCn9yZHwdTnr"
      },
      "source": [
        "For example, the score for aligning amino acid `S` versus `P` is:"
      ]
    },
    {
      "cell_type": "code",
      "execution_count": 177,
      "metadata": {
        "colab": {
          "base_uri": "https://localhost:8080/"
        },
        "id": "9WuHx6DsdTns",
        "outputId": "a614eab4-5693-499b-bf3a-f00f5181ba30"
      },
      "outputs": [
        {
          "output_type": "execute_result",
          "data": {
            "text/plain": [
              "-1.0"
            ]
          },
          "metadata": {},
          "execution_count": 177
        }
      ],
      "source": [
        "matrix['S', 'P']"
      ]
    },
    {
      "cell_type": "code",
      "execution_count": 178,
      "metadata": {
        "colab": {
          "base_uri": "https://localhost:8080/"
        },
        "id": "PdagnoFgdTns",
        "outputId": "3947bc75-d859-4900-ebfe-f50c32ca2a55"
      },
      "outputs": [
        {
          "output_type": "execute_result",
          "data": {
            "text/plain": [
              "4.0"
            ]
          },
          "metadata": {},
          "execution_count": 178
        }
      ],
      "source": [
        "matrix['I', 'I']"
      ]
    },
    {
      "cell_type": "code",
      "execution_count": 179,
      "metadata": {
        "colab": {
          "base_uri": "https://localhost:8080/"
        },
        "id": "kCWEGswpdTnt",
        "outputId": "4d2dd4e6-9d06-4afe-ac7b-ce74d8b97bd1"
      },
      "outputs": [
        {
          "output_type": "execute_result",
          "data": {
            "text/plain": [
              "-1.0"
            ]
          },
          "metadata": {},
          "execution_count": 179
        }
      ],
      "source": [
        "matrix['H', 'K']"
      ]
    },
    {
      "cell_type": "markdown",
      "metadata": {
        "id": "b93HwXYAdTnu"
      },
      "source": [
        "# BLAST\n",
        "The input for BLAST is a **Database (DB)** sequence, and one or more **query** sequences.  \n",
        "In addition, a scoring matrix and parameters $k$, $T$, and $X$."
      ]
    },
    {
      "cell_type": "markdown",
      "metadata": {
        "id": "4gmdjp4AdTnu"
      },
      "source": [
        "## 1. **Database pre-process**:\n",
        "  \n",
        "  Mapping each $k$-mer (a substrings of length $k$) from the **DB** to all its indexes in the **DB** sequence.\n",
        "  This is done once for the DB sequence, and used for multiple queries.\n",
        "  \n",
        "  Complete the function `build_db` that creates a dictionary as follows:   \n",
        "  **key** - a $k$-mer from `db`, **value** - a list of start indexes of the $k$-mer in `db`"
      ]
    },
    {
      "cell_type": "code",
      "execution_count": 180,
      "metadata": {
        "id": "l34vDTcRdJJV"
      },
      "outputs": [],
      "source": [
        "def build_db(db, k):\n",
        "\n",
        "    db_dict = {}\n",
        "    for i in range(0, len(db) - k + 1):\n",
        "      if db[i: i+k] not in db_dict.keys():\n",
        "        db_dict[db[i: i+k]] = [i]\n",
        "      else:\n",
        "        db_dict[db[i: i+k]].append(i)\n",
        "\n",
        "\n",
        "    return db_dict"
      ]
    },
    {
      "cell_type": "code",
      "execution_count": 181,
      "metadata": {
        "id": "_iFKeEPldTnv"
      },
      "outputs": [],
      "source": [
        "db_dict = build_db('AACGTAAAC', 3)"
      ]
    },
    {
      "cell_type": "code",
      "execution_count": 182,
      "metadata": {
        "id": "pN4KjCyhdTnv"
      },
      "outputs": [],
      "source": [
        "assert db_dict == {'AAC': [0, 6], 'ACG': [1], 'CGT': [2], 'GTA': [3], 'TAA': [4], 'AAA': [5]}"
      ]
    },
    {
      "cell_type": "markdown",
      "metadata": {
        "id": "3z9yvutcdTnw"
      },
      "source": [
        "## 2. **Query processing**:\n",
        "  \n",
        "###  i. For each $k$-mer in the query, make a list of neighbor words.\n",
        "  > **Reminder**: A neighbor word $𝑠′$ of a $k$-mer $𝑠$ is a word of length $|s|=k$, with $score(s,s')\\geq T$ (using a scoring matrix). $T$ is a chosen threshold.\n"
      ]
    },
    {
      "cell_type": "markdown",
      "metadata": {
        "id": "N1vjy2agdTnw"
      },
      "source": [
        "#### First, a helper function.   \n",
        "Complete the function `align` that gets two sequences of the same length and a scoring matrix, and returns the score of alignment without indels."
      ]
    },
    {
      "cell_type": "code",
      "execution_count": 183,
      "metadata": {
        "id": "5w8dGi6BdTnw"
      },
      "outputs": [],
      "source": [
        "def align(seq1, seq2, scoring_matrix):\n",
        "    if len(seq1) != len(seq2):\n",
        "        raise ValueError(\"Sequences must be with the same length\")\n",
        "    score = 0\n",
        "    for i in range(len(seq1)):\n",
        "      score += scoring_matrix[seq1[i], seq2[i]]\n",
        "    return score"
      ]
    },
    {
      "cell_type": "code",
      "execution_count": 184,
      "metadata": {
        "id": "mHy2FhTYdTnx"
      },
      "outputs": [],
      "source": [
        "assert align('YLKSHFCTA', 'YLNAKKFVH', matrix) == 4"
      ]
    },
    {
      "cell_type": "markdown",
      "metadata": {
        "id": "LESLgIMwdTnx"
      },
      "source": [
        "#### Finding neighbors\n",
        "Let's look at the alphabet of amino acids"
      ]
    },
    {
      "cell_type": "code",
      "execution_count": 185,
      "metadata": {
        "id": "GD52TFxwdTnx"
      },
      "outputs": [],
      "source": [
        "alphabet = matrix.alphabet"
      ]
    },
    {
      "cell_type": "code",
      "execution_count": 186,
      "metadata": {
        "colab": {
          "base_uri": "https://localhost:8080/",
          "height": 36
        },
        "id": "i0GxiHgCdTny",
        "outputId": "a0d92b45-6eed-4edc-f93c-5c2e9fd15c54"
      },
      "outputs": [
        {
          "output_type": "execute_result",
          "data": {
            "text/plain": [
              "'ARNDCQEGHILKMFPSTWYVBZX*'"
            ],
            "application/vnd.google.colaboratory.intrinsic+json": {
              "type": "string"
            }
          },
          "metadata": {},
          "execution_count": 186
        }
      ],
      "source": [
        "alphabet"
      ]
    },
    {
      "cell_type": "markdown",
      "metadata": {
        "id": "aRvcALFgdTny"
      },
      "source": [
        "We will use the first 20 amino-acid symbols, the last 4 signify a combination of two or more amino acids"
      ]
    },
    {
      "cell_type": "code",
      "execution_count": 187,
      "metadata": {
        "colab": {
          "base_uri": "https://localhost:8080/",
          "height": 36
        },
        "id": "-m4hhr0ydTny",
        "outputId": "928bbea4-5a5b-4b98-cb2a-a89f20352713"
      },
      "outputs": [
        {
          "output_type": "execute_result",
          "data": {
            "text/plain": [
              "'ARNDCQEGHILKMFPSTWYV'"
            ],
            "application/vnd.google.colaboratory.intrinsic+json": {
              "type": "string"
            }
          },
          "metadata": {},
          "execution_count": 187
        }
      ],
      "source": [
        "ALPHABET = matrix.alphabet[:20]\n",
        "ALPHABET"
      ]
    },
    {
      "cell_type": "markdown",
      "metadata": {
        "id": "OK_J_MCLdTnz"
      },
      "source": [
        "Complete the function `find_neighbors_rec` that finds all neighbors of a $k$-mer\n",
        "\n",
        "> Description of `find_neighbors_rec`:    \n",
        "In each step of the recursion, assume that `neighbor[pos:] == kmer[pos:]`   \n",
        "**Stop condition**: If `pos` is equal to the length of the `kmer`, we add the `neighbor` to `neighbors` list   \n",
        "**Otherwise**, we will try to replace the char in index `pos` with each letter from the `alphabet` (including itself)    \n",
        "The new score will be obtained by removing the alignment score of `kmer[pos]` with itself, and adding the alignment score of `kmer[pos]` with the new letter  \n",
        "If the new score is $>=T$, we will continue with the recursion (and go to the next position)"
      ]
    },
    {
      "cell_type": "code",
      "execution_count": 188,
      "metadata": {
        "id": "_YbOJgdKdTnz"
      },
      "outputs": [],
      "source": [
        "def find_neighbors(kmer, scoring_matrix, alphabet, T):\n",
        "\n",
        "    neighbors = []\n",
        "    max_score = align(kmer, kmer, scoring_matrix)\n",
        "\n",
        "    if max_score >= T:\n",
        "        find_neighbors_rec(kmer, kmer, 0, max_score, alphabet, neighbors, scoring_matrix, T)\n",
        "\n",
        "    return neighbors\n",
        "\n",
        "def find_neighbors_rec(kmer, neighbor, pos, curr_score, alphabet, neighbors, scoring_matrix, T):\n",
        "    if pos == len(kmer):\n",
        "      neighbors.append(neighbor)\n",
        "    else:\n",
        "      for letter in alphabet:\n",
        "        neighbor = neighbor[:pos] + letter + neighbor[pos+1:]\n",
        "        new_score = curr_score - align(kmer[pos], kmer[pos], scoring_matrix) + align(kmer[pos], letter, scoring_matrix)\n",
        "        if new_score >= T:\n",
        "          find_neighbors_rec(kmer, neighbor, pos + 1, new_score, alphabet, neighbors, scoring_matrix, T)"
      ]
    },
    {
      "cell_type": "markdown",
      "metadata": {
        "id": "kmrB8XwQdTnz"
      },
      "source": [
        "These are all possible neighbors of `YI`"
      ]
    },
    {
      "cell_type": "code",
      "execution_count": 189,
      "metadata": {
        "id": "nf7fZrprdTnz"
      },
      "outputs": [],
      "source": [
        "neighbors = find_neighbors('YI', matrix, ALPHABET, -50)"
      ]
    },
    {
      "cell_type": "markdown",
      "metadata": {
        "id": "9T66VcT6dTn0"
      },
      "source": [
        "This number should be equal to $20^2=400$"
      ]
    },
    {
      "cell_type": "code",
      "execution_count": 190,
      "metadata": {
        "id": "Uii6_asbdTn0"
      },
      "outputs": [],
      "source": [
        "assert len(neighbors) == 400"
      ]
    },
    {
      "cell_type": "code",
      "execution_count": 191,
      "metadata": {
        "colab": {
          "base_uri": "https://localhost:8080/"
        },
        "id": "rztwhSAqdTn0",
        "outputId": "2ac95964-5187-4df1-8a56-525d0d6af8fb"
      },
      "outputs": [
        {
          "output_type": "execute_result",
          "data": {
            "text/plain": [
              "['AA', 'AR', 'AN', 'AD', 'AC', 'AQ', 'AE', 'AG', 'AH', 'AI']"
            ]
          },
          "metadata": {},
          "execution_count": 191
        }
      ],
      "source": [
        "neighbors[:10]"
      ]
    },
    {
      "cell_type": "code",
      "execution_count": 192,
      "metadata": {
        "id": "BngBGw2UdTn0"
      },
      "outputs": [],
      "source": [
        "neighbors = find_neighbors('YI', matrix, ALPHABET, 6)"
      ]
    },
    {
      "cell_type": "code",
      "execution_count": 193,
      "metadata": {
        "colab": {
          "base_uri": "https://localhost:8080/"
        },
        "id": "b0gHxEfTdTn0",
        "outputId": "15cc66b4-223f-4da5-ea3a-a9392a663b16"
      },
      "outputs": [
        {
          "output_type": "execute_result",
          "data": {
            "text/plain": [
              "['HI', 'FI', 'FV', 'WI', 'YA', 'YC', 'YI', 'YL', 'YM', 'YF', 'YT', 'YY', 'YV']"
            ]
          },
          "metadata": {},
          "execution_count": 193
        }
      ],
      "source": [
        "neighbors"
      ]
    },
    {
      "cell_type": "code",
      "execution_count": 194,
      "metadata": {
        "id": "XOs53AOHdTn0"
      },
      "outputs": [],
      "source": [
        "assert set(neighbors) == set(['HI', 'FI', 'FV', 'WI', 'YA', 'YC', 'YI', 'YL', 'YM', 'YF', 'YT', 'YY', 'YV'])"
      ]
    },
    {
      "cell_type": "markdown",
      "metadata": {
        "id": "SNxOhqqFdTn2"
      },
      "source": [
        "# Part 2"
      ]
    },
    {
      "cell_type": "markdown",
      "metadata": {
        "id": "zKUIthu0dTn2"
      },
      "source": [
        "  \n",
        "### ii. Finding HSPs\n",
        "For each neighbor, find the indexes of its appearances in the DB (**hits**), using the dictionary constructed in stage **1**.\n",
        "\n",
        "A **hit** is called an HSP (High-Scoring Segment Pair). You are provided with the class `HSP`."
      ]
    },
    {
      "cell_type": "code",
      "execution_count": 195,
      "metadata": {
        "id": "qjMvl3aRdTn3"
      },
      "outputs": [],
      "source": [
        "class HSP():\n",
        "    \"\"\"Represents an alignment with score >=T between a kmer in the query and a kmer in the db\"\"\"\n",
        "\n",
        "    def __init__(self, query_start, query_end, db_start, db_end, score):\n",
        "        self.query_start = query_start\n",
        "        self.query_end = query_end\n",
        "        self.db_start = db_start\n",
        "        self.db_end = db_end\n",
        "        self.score = score\n",
        "\n",
        "    def __eq__(self, other):\n",
        "        if isinstance(other, self.__class__):\n",
        "            is_query_eq = self.query_start == other.query_start and self.query_end == other.query_end\n",
        "            is_db_eq = self.db_start == other.db_start and self.db_end == other.db_end\n",
        "            return is_query_eq and is_db_eq and self.score == other.score\n",
        "        return False\n",
        "\n",
        "    def __ne__(self, other):\n",
        "        \"\"\"Define a non-equality test\"\"\"\n",
        "        return not self.__eq__(other)\n",
        "\n",
        "    def __hash__(self):\n",
        "        return hash(str((self.query_start, self.query_end, self.db_start, self.db_end, self.score)))\n",
        "\n",
        "    def __str__(self):\n",
        "        return f'''\n",
        "                Score: {self.score}\n",
        "                Query: [{self.query_start}, {self.query_end}]\n",
        "                DB: [{self.db_start}, {self.db_end}]\n",
        "                '''\n",
        "    def __repr__(self):\n",
        "        return self.__str__()"
      ]
    },
    {
      "cell_type": "markdown",
      "metadata": {
        "id": "GDymR-SfdTn3"
      },
      "source": [
        "Complete the function `get_hsps` that returns all hsps between a $k$-mer in `query` and a $k$-mer in db"
      ]
    },
    {
      "cell_type": "code",
      "execution_count": 196,
      "metadata": {
        "id": "zglR4vZCdTn3"
      },
      "outputs": [],
      "source": [
        "def get_hsps(query, db_dict, k, scoring_matrix, T):\n",
        "\n",
        "    hsps = []\n",
        "    for i in range(len(query)):\n",
        "      kmer = query[i: i + k]\n",
        "      neighbors_k = find_neighbors(kmer, scoring_matrix, alphabet, T)\n",
        "      for neighbor in neighbors_k:\n",
        "        if neighbor in db_dict.keys():\n",
        "          neighbor_indexes = db_dict[neighbor]\n",
        "          for index in neighbor_indexes:\n",
        "            score = align(neighbor, kmer, scoring_matrix)\n",
        "            hsp = HSP(i, i + k - 1, index, index + k-1, score)\n",
        "            hsps.append(hsp)\n",
        "    return hsps"
      ]
    },
    {
      "cell_type": "code",
      "execution_count": 197,
      "metadata": {
        "id": "0I0BD1bFdTn4"
      },
      "outputs": [],
      "source": [
        "k = 5\n",
        "T = 23\n",
        "db = 'VTSAQELRGCTVINGSLIINIRGGNNLAAELEANLG'\n",
        "query = 'AANIEGGNNAA'\n",
        "\n",
        "db_dict = build_db(db, k)\n",
        "hsps = get_hsps(query, db_dict, k, matrix, T)"
      ]
    },
    {
      "cell_type": "code",
      "execution_count": 198,
      "metadata": {
        "colab": {
          "base_uri": "https://localhost:8080/"
        },
        "id": "Ccv3e89ddTn4",
        "outputId": "9b295eb2-0b44-4910-fae5-1183711455b5"
      },
      "outputs": [
        {
          "output_type": "stream",
          "name": "stdout",
          "text": [
            "{\n",
            "                Score: 23.0\n",
            "                Query: [5, 9]\n",
            "                DB: [22, 26]\n",
            "                , \n",
            "                Score: 24.0\n",
            "                Query: [4, 8]\n",
            "                DB: [21, 25]\n",
            "                }\n"
          ]
        }
      ],
      "source": [
        "expected_hsps = set([HSP(query_start=5,query_end=9,db_start=22,db_end=26,score=23.0),\n",
        "                     HSP(query_start=4,query_end=8,db_start=21,db_end=25,score=24.0)])\n",
        "print(expected_hsps)"
      ]
    },
    {
      "cell_type": "code",
      "execution_count": 199,
      "metadata": {
        "id": "3BlDTx4ydTn4"
      },
      "outputs": [],
      "source": [
        "assert set(hsps) == expected_hsps"
      ]
    },
    {
      "cell_type": "markdown",
      "metadata": {
        "id": "dWqpqo9adTn4"
      },
      "source": [
        "## 3. **Extension of HSPs**:\n",
        "    \n",
        "Extend each HSP found in **stage 2** to obtain MSPs (Maximal Scoring Pairs). Extension stops when the extended HSP score drops X below the maximal score obtained so far."
      ]
    },
    {
      "cell_type": "markdown",
      "metadata": {
        "id": "spV1M9rRdTn4"
      },
      "source": [
        "In the next function, you can use the imported method `copy`    \n",
        "`copy` performs a deep copy of an object"
      ]
    },
    {
      "cell_type": "code",
      "execution_count": 200,
      "metadata": {
        "id": "hqpmhq9BdTn5"
      },
      "outputs": [],
      "source": [
        "from copy import copy"
      ]
    },
    {
      "cell_type": "code",
      "execution_count": 201,
      "metadata": {
        "id": "pJDtiYmGdTn5"
      },
      "outputs": [],
      "source": [
        "hsp1 = HSP(5,10,22,27,23.0)\n",
        "hsp2 = copy(hsp1)"
      ]
    },
    {
      "cell_type": "code",
      "execution_count": 202,
      "metadata": {
        "colab": {
          "base_uri": "https://localhost:8080/"
        },
        "id": "D5--mV10dTn5",
        "outputId": "c5faf728-da00-4725-e12e-0bf328b4ce26"
      },
      "outputs": [
        {
          "output_type": "execute_result",
          "data": {
            "text/plain": [
              "\n",
              "                Score: 23.0\n",
              "                Query: [5, 10]\n",
              "                DB: [22, 27]\n",
              "                "
            ]
          },
          "metadata": {},
          "execution_count": 202
        }
      ],
      "source": [
        "hsp1"
      ]
    },
    {
      "cell_type": "code",
      "execution_count": 203,
      "metadata": {
        "id": "qf6D6CvwdTn5"
      },
      "outputs": [],
      "source": [
        "hsp2.score = 50"
      ]
    },
    {
      "cell_type": "markdown",
      "metadata": {
        "id": "8Xr2l5zbdTn5"
      },
      "source": [
        "`hsp1` didn't change after changing `hsp2`"
      ]
    },
    {
      "cell_type": "code",
      "execution_count": 204,
      "metadata": {
        "colab": {
          "base_uri": "https://localhost:8080/"
        },
        "id": "ewUCOBiudTn5",
        "outputId": "998d675a-fcb6-4503-a6a9-65629e9787c1"
      },
      "outputs": [
        {
          "output_type": "stream",
          "name": "stdout",
          "text": [
            "hsp1 \n",
            "                Score: 23.0\n",
            "                Query: [5, 10]\n",
            "                DB: [22, 27]\n",
            "                \n",
            "hsp2 \n",
            "                Score: 50\n",
            "                Query: [5, 10]\n",
            "                DB: [22, 27]\n",
            "                \n"
          ]
        }
      ],
      "source": [
        "print(\"hsp1\", hsp1)\n",
        "print(\"hsp2\", hsp2)"
      ]
    },
    {
      "cell_type": "markdown",
      "metadata": {
        "id": "ovEVV_lCdTn5"
      },
      "source": [
        "You are given the function `extend_hsp`, the hsp is first extended to the left, and the best scoring extension is returned.   \n",
        "Then, the left best scoring extension (it can also be the initial hsp) is given to the function `extend_right`\n",
        "\n",
        "Complete the functions `extend_left` and `extend_right`"
      ]
    },
    {
      "cell_type": "code",
      "execution_count": 205,
      "metadata": {
        "id": "dpD4G7gHdTn6"
      },
      "outputs": [],
      "source": [
        "def extend_left(query, db, hsp, scoring_matrix, X):\n",
        "    \"\"\"returns the left extension with the maximal score\"\"\"\n",
        "\n",
        "    msp = copy(hsp)\n",
        "    max_score = hsp.score\n",
        "    score = max_score\n",
        "    q_start = hsp.query_start\n",
        "    db_start = hsp.db_start\n",
        "    q_end = hsp.query_end\n",
        "    db_end = hsp.db_end\n",
        "    while score >= max_score - X:\n",
        "      if score > max_score:\n",
        "        max_score = score\n",
        "        msp.query_start = q_start\n",
        "        msp.db_start = db_start\n",
        "        msp.score = score\n",
        "      if q_start <= 0 or db_start <= 0:\n",
        "        break\n",
        "      q_start -= 1\n",
        "      db_start -= 1\n",
        "      score += scoring_matrix[query[q_start], db[db_start]]\n",
        "\n",
        "    return msp"
      ]
    },
    {
      "cell_type": "code",
      "execution_count": 206,
      "metadata": {
        "id": "Y76VB2c8dTn6"
      },
      "outputs": [],
      "source": [
        "def extend_right(query, db, hsp, scoring_matrix, X):\n",
        "    \"\"\"returns the right extension with the maximal score\"\"\"\n",
        "\n",
        "    msp = copy(hsp)\n",
        "    max_score = hsp.score\n",
        "    score = max_score\n",
        "    q_start = hsp.query_start\n",
        "    db_start = hsp.db_start\n",
        "    q_end = hsp.query_end\n",
        "    db_end = hsp.db_end\n",
        "    while score >= max_score - X:\n",
        "      if score > max_score:\n",
        "        max_score = score\n",
        "        msp.query_end = q_end\n",
        "        msp.db_end = db_end\n",
        "        msp.score = score\n",
        "      if q_end >= len(query) - 1 or db_end >= len(db) - 1:\n",
        "        break\n",
        "      q_end += 1\n",
        "      db_end += 1\n",
        "      score += scoring_matrix[query[q_end], db[db_end]]\n",
        "\n",
        "    return msp"
      ]
    },
    {
      "cell_type": "code",
      "execution_count": 207,
      "metadata": {
        "id": "GAlCktKmdTn6"
      },
      "outputs": [],
      "source": [
        "def extend_hsp(query, db, hsp, scoring_matrix, X):\n",
        "\n",
        "    msp_left = extend_left(query, db, hsp, scoring_matrix, X)\n",
        "    msp = extend_right(query, db, msp_left, scoring_matrix, X)\n",
        "\n",
        "    return msp"
      ]
    },
    {
      "cell_type": "code",
      "execution_count": 208,
      "metadata": {
        "id": "ep_e-WApdTn6"
      },
      "outputs": [],
      "source": [
        "k = 5\n",
        "T = 24\n",
        "db = 'VTSAQELRGCTVINGSLIINIRGGNNLAAELEANLG'\n",
        "db_dict = build_db(db, k)\n",
        "query = 'AANIEGGNNAAA'\n",
        "\n",
        "hsps = get_hsps(query, db_dict, k, matrix, T)"
      ]
    },
    {
      "cell_type": "code",
      "execution_count": 209,
      "metadata": {
        "colab": {
          "base_uri": "https://localhost:8080/"
        },
        "id": "aV7JEQ1qdTn6",
        "outputId": "ca629019-2831-405f-bf42-f182dca4aba6"
      },
      "outputs": [
        {
          "output_type": "execute_result",
          "data": {
            "text/plain": [
              "\n",
              "                Score: 24.0\n",
              "                Query: [4, 8]\n",
              "                DB: [21, 25]\n",
              "                "
            ]
          },
          "metadata": {},
          "execution_count": 209
        }
      ],
      "source": [
        "hsp = hsps[0]\n",
        "hsp"
      ]
    },
    {
      "cell_type": "code",
      "execution_count": 210,
      "metadata": {
        "id": "WpztRTp4dTn7"
      },
      "outputs": [],
      "source": [
        "assert hsp == HSP(4, 8, 21, 25, 24.0)"
      ]
    },
    {
      "cell_type": "code",
      "execution_count": 211,
      "metadata": {
        "colab": {
          "base_uri": "https://localhost:8080/"
        },
        "id": "1VSnUO6sdTn7",
        "outputId": "925cf7bd-322f-4489-ad7d-3f8e268a092d"
      },
      "outputs": [
        {
          "output_type": "execute_result",
          "data": {
            "text/plain": [
              "\n",
              "                Score: 41.0\n",
              "                Query: [2, 11]\n",
              "                DB: [19, 28]\n",
              "                "
            ]
          },
          "metadata": {},
          "execution_count": 211
        }
      ],
      "source": [
        "X = 20\n",
        "\n",
        "msp = extend_hsp(query, db, hsp, matrix, X)\n",
        "msp"
      ]
    },
    {
      "cell_type": "code",
      "execution_count": 212,
      "metadata": {
        "id": "Lo8LEU1fdTn7"
      },
      "outputs": [],
      "source": [
        "assert msp == HSP(2, 11, 19, 28, 41.0)"
      ]
    },
    {
      "cell_type": "markdown",
      "metadata": {
        "id": "KYWLvsoSdTn7"
      },
      "source": [
        "## 4. **Find all MSPs**:\n",
        "\n",
        "Combine stages 1-3.  "
      ]
    },
    {
      "cell_type": "code",
      "execution_count": 213,
      "metadata": {
        "id": "rfj3Ps_xdTn7"
      },
      "outputs": [],
      "source": [
        "def find_msps(query, db, k, scoring_matrix, T, X):\n",
        "\n",
        "    msps = set()\n",
        "    db_dict = build_db(db, k)\n",
        "    hsps = get_hsps(query, db_dict, k, scoring_matrix, T)\n",
        "    for hsp in hsps:\n",
        "      msp = extend_hsp(query, db, hsp, scoring_matrix, X)\n",
        "      msps.add(msp)\n",
        "\n",
        "    return msps"
      ]
    },
    {
      "cell_type": "code",
      "execution_count": 214,
      "metadata": {
        "id": "PFRTKYlIdTn7"
      },
      "outputs": [],
      "source": [
        "k = 4\n",
        "T = 20\n",
        "X = 20\n",
        "db = 'AINIEGGNCTVINGSLIINIRNNAAAAELEANLG'\n",
        "query = 'AANIEGGNNAAA'\n",
        "\n",
        "msps = find_msps(query, db, k, matrix, T, X)"
      ]
    },
    {
      "cell_type": "code",
      "execution_count": 215,
      "metadata": {
        "colab": {
          "base_uri": "https://localhost:8080/"
        },
        "id": "lzDGgsI0dTn7",
        "outputId": "2bd44544-aa8a-44fd-a06d-7da7a950ab4a"
      },
      "outputs": [
        {
          "output_type": "execute_result",
          "data": {
            "text/plain": [
              "{\n",
              "                 Score: 24.0\n",
              "                 Query: [7, 11]\n",
              "                 DB: [21, 25]\n",
              "                 ,\n",
              " \n",
              "                 Score: 36.0\n",
              "                 Query: [0, 7]\n",
              "                 DB: [0, 7]\n",
              "                 }"
            ]
          },
          "metadata": {},
          "execution_count": 215
        }
      ],
      "source": [
        "msps"
      ]
    },
    {
      "cell_type": "markdown",
      "metadata": {
        "id": "j0rgbJiHdTn8"
      },
      "source": [
        "Get top scoring MSPs of the query."
      ]
    },
    {
      "cell_type": "code",
      "execution_count": 216,
      "metadata": {
        "id": "Ar0PsivadTn8"
      },
      "outputs": [],
      "source": [
        "def get_top_msps(msps, top):\n",
        "    sorted_msps = sorted(list(msps), reverse=True, key=lambda msp:msp.score)\n",
        "    return sorted_msps[:top]"
      ]
    },
    {
      "cell_type": "code",
      "execution_count": 217,
      "metadata": {
        "colab": {
          "base_uri": "https://localhost:8080/"
        },
        "id": "bH3dT9SBdTn8",
        "outputId": "a924569f-b50b-48e9-d650-cc20794b8521"
      },
      "outputs": [
        {
          "output_type": "execute_result",
          "data": {
            "text/plain": [
              "\n",
              "                Score: 36.0\n",
              "                Query: [0, 7]\n",
              "                DB: [0, 7]\n",
              "                "
            ]
          },
          "metadata": {},
          "execution_count": 217
        }
      ],
      "source": [
        "msps = get_top_msps(msps, 1)\n",
        "msp = msps[0]\n",
        "msp"
      ]
    },
    {
      "cell_type": "code",
      "execution_count": 218,
      "metadata": {
        "id": "7ydLGtYKdTn8"
      },
      "outputs": [],
      "source": [
        "assert msp == HSP(0, 7, 0, 7, 36.0)"
      ]
    },
    {
      "cell_type": "markdown",
      "metadata": {
        "id": "tkKFK7tWdTn8"
      },
      "source": [
        "# Part 3\n",
        "### Input files:\n",
        "- query1.fasta\n",
        "- db1.fasta\n",
        "\n",
        "*query1.fasta* contains a protein query sequence, and *db1.fasta* contains the database that represents the concatanations of different proteins.\n",
        "\n",
        "In this part you will run your BLAST using the query in *query1.fasta* and the Database in *db1.fasta*.\n"
      ]
    },
    {
      "cell_type": "markdown",
      "metadata": {
        "id": "HKmjoSMJdTn8"
      },
      "source": [
        "We will use the function `read_seq_file` to read the files *query1.fasta* and *db1.fasta*\n",
        "\n",
        "**Important:** If you're using Google Colab, you have to upload the files to your session storage. Click on \"Files\" on the left side (the folder icon). After it click on \"Upload to session storage\" and choose the files you would like to upload.\n",
        "\n",
        "Please note that you have to upload the files every time you open a session."
      ]
    },
    {
      "cell_type": "code",
      "execution_count": 219,
      "metadata": {
        "id": "WBm65Tv2dTn8"
      },
      "outputs": [],
      "source": [
        "def read_seq_file(seq_file):\n",
        "    seq_id = ''\n",
        "    seq = ''\n",
        "    with open(seq_file) as f:\n",
        "        for line in f:\n",
        "            if line.startswith('>'):\n",
        "                seq_id = line.strip()[1:]\n",
        "            else:\n",
        "                seq += line.strip()\n",
        "\n",
        "        return seq_id, seq"
      ]
    },
    {
      "cell_type": "code",
      "execution_count": 220,
      "metadata": {
        "id": "EjCQqOIZdTn9"
      },
      "outputs": [],
      "source": [
        "query_id, query = read_seq_file('query1.fasta')"
      ]
    },
    {
      "cell_type": "code",
      "execution_count": 221,
      "metadata": {
        "colab": {
          "base_uri": "https://localhost:8080/"
        },
        "id": "MMvHl7TYdTn9",
        "outputId": "dca9a178-bade-42ef-f173-869731224500"
      },
      "outputs": [
        {
          "output_type": "execute_result",
          "data": {
            "text/plain": [
              "1382"
            ]
          },
          "metadata": {},
          "execution_count": 221
        }
      ],
      "source": [
        "len(query)"
      ]
    },
    {
      "cell_type": "code",
      "execution_count": 222,
      "metadata": {
        "colab": {
          "base_uri": "https://localhost:8080/",
          "height": 36
        },
        "id": "zqHiLPVJdTn9",
        "outputId": "1e0d89c3-7a91-4407-da5f-5d5d27970a2b"
      },
      "outputs": [
        {
          "output_type": "execute_result",
          "data": {
            "text/plain": [
              "'MATGGRRGAA'"
            ],
            "application/vnd.google.colaboratory.intrinsic+json": {
              "type": "string"
            }
          },
          "metadata": {},
          "execution_count": 222
        }
      ],
      "source": [
        "query[:10]"
      ]
    },
    {
      "cell_type": "code",
      "execution_count": 223,
      "metadata": {
        "id": "lTwxspmHdTn9"
      },
      "outputs": [],
      "source": [
        "db_id, db = read_seq_file('db1.fasta')"
      ]
    },
    {
      "cell_type": "code",
      "execution_count": 224,
      "metadata": {
        "colab": {
          "base_uri": "https://localhost:8080/"
        },
        "id": "C5BVsLqWdTn9",
        "outputId": "bf2c54dd-02fd-4c1b-f6f1-aa06d1aa142c"
      },
      "outputs": [
        {
          "output_type": "execute_result",
          "data": {
            "text/plain": [
              "9520"
            ]
          },
          "metadata": {},
          "execution_count": 224
        }
      ],
      "source": [
        "len(db)"
      ]
    },
    {
      "cell_type": "markdown",
      "metadata": {
        "id": "WJkuTfCfdTn9"
      },
      "source": [
        "BLAST is a hueristic. To find out the real alignment between the `query` and the `db`, we will use local alignment algorithm.\n",
        "\n",
        "Example:"
      ]
    },
    {
      "cell_type": "code",
      "execution_count": 225,
      "metadata": {
        "colab": {
          "base_uri": "https://localhost:8080/"
        },
        "id": "dK9SWBogdTn9",
        "outputId": "f2f2a5a0-1e97-446f-dd76-384ebe8c3871"
      },
      "outputs": [
        {
          "output_type": "stream",
          "name": "stdout",
          "text": [
            "KKKKEAVLA\n",
            "----E-VL-\n",
            "Location: [4, 8]\n"
          ]
        }
      ],
      "source": [
        "from Bio import pairwise2\n",
        "\n",
        "db_small = 'KKKKEAVLA'\n",
        "query_small = 'EVL'\n",
        "\n",
        "alignments = pairwise2.align.localds(db_small, query_small, matrix, -4, -4)\n",
        "\n",
        "align1, align2, score, start, end = alignments[0]\n",
        "\n",
        "print(align1)\n",
        "print(align2)\n",
        "print(f'Location: [{start}, {end}]')"
      ]
    },
    {
      "cell_type": "markdown",
      "metadata": {
        "id": "x8jIAOUPdTn-"
      },
      "source": [
        "Now using the `query` and `db` from the files"
      ]
    },
    {
      "cell_type": "code",
      "execution_count": 226,
      "metadata": {
        "id": "JFHuO-ZZdTn-"
      },
      "outputs": [],
      "source": [
        "from datetime import datetime\n",
        "\n",
        "start_time = datetime.now()\n",
        "\n",
        "alignments = pairwise2.align.localds(db, query, matrix, -4, -4)\n",
        "\n",
        "timedelta = datetime.now() - start_time"
      ]
    },
    {
      "cell_type": "markdown",
      "metadata": {
        "id": "wKxyP06QdTn-"
      },
      "source": [
        "It should take about 20 seconds"
      ]
    },
    {
      "cell_type": "code",
      "execution_count": 227,
      "metadata": {
        "colab": {
          "base_uri": "https://localhost:8080/"
        },
        "id": "W62p9CCZdTn-",
        "outputId": "bc792f88-626f-4f4b-d681-42d3cc59e948"
      },
      "outputs": [
        {
          "output_type": "stream",
          "name": "stdout",
          "text": [
            "0:00:22.843850\n"
          ]
        }
      ],
      "source": [
        "print(timedelta)"
      ]
    },
    {
      "cell_type": "code",
      "execution_count": 228,
      "metadata": {
        "id": "XkAhnkJcdTn-"
      },
      "outputs": [],
      "source": [
        "align1, align2, score, start, end = alignments[0]"
      ]
    },
    {
      "cell_type": "code",
      "execution_count": 229,
      "metadata": {
        "colab": {
          "base_uri": "https://localhost:8080/"
        },
        "id": "ZYCiKXMEdTn-",
        "outputId": "49172b33-6eef-439d-f4ea-a3e2122e5062"
      },
      "outputs": [
        {
          "output_type": "stream",
          "name": "stdout",
          "text": [
            "Score: 6987.0, [2999, 4366]\n"
          ]
        }
      ],
      "source": [
        "print(f'Score: {score}, [{start}, {end}]')"
      ]
    },
    {
      "cell_type": "markdown",
      "metadata": {
        "id": "WeVGUNaLdTn_"
      },
      "source": [
        "Now let's see if our BLAST is good enough"
      ]
    },
    {
      "cell_type": "code",
      "execution_count": 230,
      "metadata": {
        "id": "x5OmnII1dTn_"
      },
      "outputs": [],
      "source": [
        "k = 4\n",
        "T = 23\n",
        "X = 8\n",
        "\n",
        "start_time = datetime.now()\n",
        "\n",
        "msps = find_msps(query, db, k, matrix, T, X)\n",
        "\n",
        "timedelta = datetime.now() - start_time"
      ]
    },
    {
      "cell_type": "markdown",
      "metadata": {
        "id": "PJTzxvUEdTn_"
      },
      "source": [
        "It should be much faster"
      ]
    },
    {
      "cell_type": "code",
      "execution_count": 231,
      "metadata": {
        "colab": {
          "base_uri": "https://localhost:8080/"
        },
        "id": "QJ_JwwPfdTn_",
        "outputId": "1e131bbe-701d-40a9-f909-4d3bc0b3b367"
      },
      "outputs": [
        {
          "output_type": "stream",
          "name": "stdout",
          "text": [
            "0:00:01.949484\n"
          ]
        }
      ],
      "source": [
        "print(timedelta)"
      ]
    },
    {
      "cell_type": "code",
      "execution_count": 232,
      "metadata": {
        "colab": {
          "base_uri": "https://localhost:8080/"
        },
        "id": "pe-q-HbxdTn_",
        "outputId": "34aac2d1-bb14-468d-804a-3614eaaf25db"
      },
      "outputs": [
        {
          "output_type": "execute_result",
          "data": {
            "text/plain": [
              "[\n",
              "                 Score: 3835.0\n",
              "                 Query: [33, 753]\n",
              "                 DB: [3016, 3736]\n",
              "                 ,\n",
              " \n",
              "                 Score: 3088.0\n",
              "                 Query: [783, 1381]\n",
              "                 DB: [3753, 4351]\n",
              "                 ,\n",
              " \n",
              "                 Score: 127.0\n",
              "                 Query: [754, 792]\n",
              "                 DB: [3725, 3763]\n",
              "                 ]"
            ]
          },
          "metadata": {},
          "execution_count": 232
        }
      ],
      "source": [
        "get_top_msps(msps, 3)"
      ]
    },
    {
      "cell_type": "markdown",
      "metadata": {
        "id": "_reOn2kHdTn_"
      },
      "source": [
        "Discuss the results.\n",
        "  - Is there an MSP that is identical to the optimal Local Alignment?\n",
        "  - If not, why do you think so?\n",
        "  - How can BLAST be improved, in order to get more similar results to Local Alignment?"
      ]
    },
    {
      "cell_type": "markdown",
      "metadata": {
        "id": "yW4ToahbXrVl"
      },
      "source": [
        "**Answer:**\n",
        "\n",
        "*   No\n",
        "*   Blast is a heuristic algorithm, which means it won't always find the optimal alignment, but will find  good alignments (faster). In contrast to local alignment that promise to find the optimal alignment.\n",
        "* Increasing T (but not too much) will get better solutions because the treshold will be greater and we'll get the alignments that are more optimal.\n",
        "\n",
        "\n",
        "\n",
        "\n"
      ]
    },
    {
      "cell_type": "markdown",
      "metadata": {
        "id": "qMdzRr5-dToA"
      },
      "source": [
        "# Part 4\n",
        "\n",
        "### Input files:\n",
        "- query2.fasta\n",
        "- db2.fasta\n",
        "\n",
        "*query2.fasta* contains a query protein alpha globin, and db2 is the database (DB), containing 3 homologs of the query.\n",
        "\n",
        "We will run local alignment algorithm using the query and the database.\n",
        "   - After running the algorithm, we will get **start** and **end** indices of the local alignment in the database.\n",
        "   - We will remove the substring DB[start:end] from the DB string and run local alignment again, using the new DB string.\n",
        "   - This will help you find locations of all 3 homologs of the query in the database.  "
      ]
    },
    {
      "cell_type": "code",
      "execution_count": 233,
      "metadata": {
        "id": "ia1G9ZWHdToA"
      },
      "outputs": [],
      "source": [
        "query2_id, query2 = read_seq_file('query2.fasta')"
      ]
    },
    {
      "cell_type": "code",
      "execution_count": 234,
      "metadata": {
        "id": "L_4GRn8IdToA"
      },
      "outputs": [],
      "source": [
        "db2_id, db2 = read_seq_file('db2.fasta')"
      ]
    },
    {
      "cell_type": "code",
      "execution_count": 235,
      "metadata": {
        "colab": {
          "base_uri": "https://localhost:8080/"
        },
        "id": "g4qu0R8EdToA",
        "outputId": "2a778de5-1df5-4067-8d76-d1231510a51d"
      },
      "outputs": [
        {
          "output_type": "execute_result",
          "data": {
            "text/plain": [
              "10437"
            ]
          },
          "metadata": {},
          "execution_count": 235
        }
      ],
      "source": [
        "len(db2)"
      ]
    },
    {
      "cell_type": "code",
      "execution_count": 236,
      "metadata": {
        "id": "_Cg4gK67dToA"
      },
      "outputs": [],
      "source": [
        "alignments = pairwise2.align.localds(db2, query2, matrix, -4, -4)\n",
        "\n",
        "align1, align2, *alignment1 = alignments[0]"
      ]
    },
    {
      "cell_type": "markdown",
      "metadata": {
        "id": "5pRo_lxTdToA"
      },
      "source": [
        "Remove a substring that matched `query2` from `db2`"
      ]
    },
    {
      "cell_type": "code",
      "execution_count": 237,
      "metadata": {
        "colab": {
          "base_uri": "https://localhost:8080/"
        },
        "id": "L4eZB04QdToA",
        "outputId": "a7d6af93-254f-4852-c5b6-3572684b22a4"
      },
      "outputs": [
        {
          "output_type": "execute_result",
          "data": {
            "text/plain": [
              "[540.0, 2395, 2537]"
            ]
          },
          "metadata": {},
          "execution_count": 237
        }
      ],
      "source": [
        "score, start, end = alignment1\n",
        "alignment1"
      ]
    },
    {
      "cell_type": "markdown",
      "metadata": {
        "id": "DOw15p0kdToB"
      },
      "source": [
        "Remove a substring that matched `query2` from `db2`"
      ]
    },
    {
      "cell_type": "code",
      "execution_count": 238,
      "metadata": {
        "id": "QPWtxM8PdToB"
      },
      "outputs": [],
      "source": [
        "db2 = db2[:start] + db2[end:]"
      ]
    },
    {
      "cell_type": "code",
      "execution_count": 239,
      "metadata": {
        "colab": {
          "base_uri": "https://localhost:8080/"
        },
        "id": "KxIGRL-gdToB",
        "outputId": "23346bee-3e2e-4c70-9e94-a8820bb074cc"
      },
      "outputs": [
        {
          "output_type": "execute_result",
          "data": {
            "text/plain": [
              "10295"
            ]
          },
          "metadata": {},
          "execution_count": 239
        }
      ],
      "source": [
        "len(db2)"
      ]
    },
    {
      "cell_type": "markdown",
      "metadata": {
        "id": "vnqnI4jNdToB"
      },
      "source": [
        "Align `query2` against the new `db2`"
      ]
    },
    {
      "cell_type": "code",
      "execution_count": 240,
      "metadata": {
        "id": "UtYlakxUdToB"
      },
      "outputs": [],
      "source": [
        "alignments = pairwise2.align.localds(db2, query2, matrix, -4, -4)\n",
        "\n",
        "align1, align2, *alignment2 = alignments[0]"
      ]
    },
    {
      "cell_type": "code",
      "execution_count": 241,
      "metadata": {
        "colab": {
          "base_uri": "https://localhost:8080/"
        },
        "id": "LQy9NQFedToB",
        "outputId": "dd9a4999-be8f-4697-e531-f44d7c247899"
      },
      "outputs": [
        {
          "output_type": "execute_result",
          "data": {
            "text/plain": [
              "[213.0, 1348, 1494]"
            ]
          },
          "metadata": {},
          "execution_count": 241
        }
      ],
      "source": [
        "score, start, end = alignment2\n",
        "alignment2"
      ]
    },
    {
      "cell_type": "markdown",
      "metadata": {
        "id": "53D73tQ7dToB"
      },
      "source": [
        "Remove another substring that matched `query2` from `db2`"
      ]
    },
    {
      "cell_type": "code",
      "execution_count": 242,
      "metadata": {
        "id": "fBp3oZMudToC"
      },
      "outputs": [],
      "source": [
        "db2 = db2[:start] + db2[end:]"
      ]
    },
    {
      "cell_type": "markdown",
      "metadata": {
        "id": "YHpUiYH6dToC"
      },
      "source": [
        "Align `query2` against the new `db2`"
      ]
    },
    {
      "cell_type": "code",
      "execution_count": 243,
      "metadata": {
        "id": "yX7EM0EHdToC"
      },
      "outputs": [],
      "source": [
        "alignments = pairwise2.align.localds(db2, query2, matrix, -4, -4)\n",
        "\n",
        "align1, align2, *alignment3 = alignments[0]"
      ]
    },
    {
      "cell_type": "code",
      "execution_count": 244,
      "metadata": {
        "colab": {
          "base_uri": "https://localhost:8080/"
        },
        "id": "AchMutUodToC",
        "scrolled": true,
        "outputId": "85ee9f1d-52fe-499a-e7cf-72df0bb0abf4"
      },
      "outputs": [
        {
          "output_type": "execute_result",
          "data": {
            "text/plain": [
              "[204.0, 230, 378]"
            ]
          },
          "metadata": {},
          "execution_count": 244
        }
      ],
      "source": [
        "score, start, end = alignment3\n",
        "alignment3"
      ]
    },
    {
      "cell_type": "markdown",
      "metadata": {
        "id": "_95UDvsHdToC"
      },
      "source": [
        "All homolog locations"
      ]
    },
    {
      "cell_type": "code",
      "execution_count": 245,
      "metadata": {
        "colab": {
          "base_uri": "https://localhost:8080/"
        },
        "id": "v4v1lXnOdToC",
        "outputId": "1dbf2ec9-0417-4264-a124-a0c53c924c8b"
      },
      "outputs": [
        {
          "output_type": "stream",
          "name": "stdout",
          "text": [
            "[540.0, 2395, 2537]\n",
            "[213.0, 1348, 1494]\n",
            "[204.0, 230, 378]\n"
          ]
        }
      ],
      "source": [
        "print(f'{alignment1}\\n{alignment2}\\n{alignment3}')"
      ]
    },
    {
      "cell_type": "code",
      "execution_count": 246,
      "metadata": {
        "colab": {
          "base_uri": "https://localhost:8080/"
        },
        "id": "7sGSa1PEdToD",
        "outputId": "cd00c37e-2bee-471b-c67c-fbae99fe47ee"
      },
      "outputs": [
        {
          "output_type": "execute_result",
          "data": {
            "text/plain": [
              "[\n",
              "                 Score: 267.0\n",
              "                 Query: [32, 87]\n",
              "                 DB: [2440, 2495]\n",
              "                 ,\n",
              " \n",
              "                 Score: 183.0\n",
              "                 Query: [87, 127]\n",
              "                 DB: [2496, 2536]\n",
              "                 ,\n",
              " \n",
              "                 Score: 154.0\n",
              "                 Query: [0, 33]\n",
              "                 DB: [2395, 2428]\n",
              "                 ,\n",
              " \n",
              "                 Score: 138.0\n",
              "                 Query: [38, 97]\n",
              "                 DB: [1404, 1463]\n",
              "                 ,\n",
              " \n",
              "                 Score: 111.0\n",
              "                 Query: [41, 82]\n",
              "                 DB: [289, 330]\n",
              "                 ]"
            ]
          },
          "metadata": {},
          "execution_count": 246
        }
      ],
      "source": [
        "k = 4\n",
        "T = 20\n",
        "X = 100\n",
        "\n",
        "db2_id, db2 = read_seq_file('db2.fasta')\n",
        "msps = find_msps(query2, db2, k, matrix, T, X)\n",
        "get_top_msps(msps, 5)"
      ]
    },
    {
      "cell_type": "markdown",
      "metadata": {
        "id": "W1XJ-Q1hdToD"
      },
      "source": [
        "Look at **5 top** scoring MSPs obtained with the parameters above.\n",
        "   - Did you find all 3 homologs in the database?\n",
        "   - Measure Precision and Sensitivity (If we found an MSP that is contained in a local alignment, it is considered to be a found homolog)."
      ]
    },
    {
      "cell_type": "markdown",
      "metadata": {
        "id": "6jC1aEgtokCa"
      },
      "source": [
        "**Answer:**\n",
        "\n",
        "*   Yes\n",
        "*   Sensitivity: 1, Precision: 1\n",
        "\n"
      ]
    },
    {
      "cell_type": "markdown",
      "metadata": {
        "id": "JqzgwtXtdToD"
      },
      "source": [
        "Now we will change parameter $T$"
      ]
    },
    {
      "cell_type": "code",
      "execution_count": 247,
      "metadata": {
        "colab": {
          "base_uri": "https://localhost:8080/"
        },
        "id": "GIv_EDmFdToD",
        "outputId": "727b3f4f-be11-460f-b470-1409a5b08dd5"
      },
      "outputs": [
        {
          "output_type": "execute_result",
          "data": {
            "text/plain": [
              "[\n",
              "                 Score: 39.0\n",
              "                 Query: [2, 17]\n",
              "                 DB: [1351, 1366]\n",
              "                 ,\n",
              " \n",
              "                 Score: 38.0\n",
              "                 Query: [2, 17]\n",
              "                 DB: [233, 248]\n",
              "                 ]"
            ]
          },
          "metadata": {},
          "execution_count": 247
        }
      ],
      "source": [
        "k = 4\n",
        "T = 26\n",
        "X = 100\n",
        "\n",
        "db2_id, db2 = read_seq_file('db2.fasta')\n",
        "msps = find_msps(query2, db2, k, matrix, T, X)\n",
        "get_top_msps(msps, 4)"
      ]
    },
    {
      "cell_type": "markdown",
      "metadata": {
        "id": "bJ8-VMqNdToD"
      },
      "source": [
        "You should get only two MSPs with the parameters above.   \n",
        "- Did you find all 3 homologs in the database?\n",
        "- Measure Precision and Sensitivity (If we found an MSP that is contained in a local alignment, it is considered to be a found homolog)."
      ]
    },
    {
      "cell_type": "markdown",
      "metadata": {
        "id": "g9ldI8wDorDa"
      },
      "source": [
        "**Answer:**\n",
        "\n",
        "*   No\n",
        "*   Sensitivity: 2/3 Precision: 1\n"
      ]
    },
    {
      "cell_type": "markdown",
      "metadata": {
        "id": "yZvqOi7RdToD"
      },
      "source": [
        "- Discuss how parameters $T$ and $X$ affect Precision and Sensitivity."
      ]
    },
    {
      "cell_type": "markdown",
      "metadata": {
        "id": "sKJHV7snov62"
      },
      "source": [
        "**Answer:**\n",
        "\n",
        "* T:\n",
        "  * precision - the more T is greater, then precision is greater. And vise verca\n",
        "  * sensitivity -the more T is greater, then sensitivity gets lower. And vise verca\n",
        "* X:\n",
        "  * precision - the more X is greater then, precision gets lower. And vise verca\n",
        "  * sensitivity - the more X is greater then, sensitivity is greater. And vise verca"
      ]
    }
  ],
  "metadata": {
    "colab": {
      "provenance": []
    },
    "kernelspec": {
      "display_name": "Python 3",
      "language": "python",
      "name": "python3"
    },
    "language_info": {
      "codemirror_mode": {
        "name": "ipython",
        "version": 3
      },
      "file_extension": ".py",
      "mimetype": "text/x-python",
      "name": "python",
      "nbconvert_exporter": "python",
      "pygments_lexer": "ipython3",
      "version": "3.8.5"
    }
  },
  "nbformat": 4,
  "nbformat_minor": 0
}